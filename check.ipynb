{
 "cells": [
  {
   "cell_type": "code",
   "execution_count": 2,
   "id": "f51bc0be-174d-4a26-a4db-6663906992ed",
   "metadata": {},
   "outputs": [
    {
     "name": "stdout",
     "output_type": "stream",
     "text": [
      "Loaded audio with sample rate: 24000 Hz, duration: 14.34 seconds\n",
      "Resampling from 24000Hz to 16000Hz\n",
      "Running endpoint prediction...\n",
      "31.6 ms\n",
      "\n",
      "Results:\n",
      "Prediction: Incomplete\n",
      "Probability of complete: 0.3235\n"
     ]
    }
   ],
   "source": [
    "import librosa\n",
    "import sys\n",
    "import numpy as np\n",
    "import time\n",
    "from third.smart_turn.inference import predict_endpoint\n",
    "\n",
    "file_path = './audio_samples/output_full.wav'\n",
    "\n",
    "audio, sr = librosa.load(file_path, sr=None, mono=True)\n",
    "print(f\"Loaded audio with sample rate: {sr} Hz, duration: {len(audio) / sr:.2f} seconds\")\n",
    "if sr != 16000:\n",
    "    print(f\"Resampling from {sr}Hz to 16000Hz\")\n",
    "    audio = librosa.resample(audio, orig_sr=sr, target_sr=16000)\n",
    "\n",
    "if audio.dtype != np.float32:\n",
    "    audio = audio.astype(np.float32)\n",
    "\n",
    "if np.max(np.abs(audio)) > 1.0:\n",
    "    audio = audio / np.max(np.abs(audio))\n",
    "\n",
    "audio = audio[:16000]\n",
    "\n",
    "print(\"Running endpoint prediction...\")\n",
    "st = time.time()\n",
    "result = predict_endpoint(audio)\n",
    "print(f\"{(time.time() - st)*1000:.1f} ms\")\n",
    "\n",
    "print(\"\\nResults:\")\n",
    "print(f\"Prediction: {'Complete' if result['prediction'] == 1 else 'Incomplete'}\")\n",
    "print(f\"Probability of complete: {result['probability']:.4f}\")"
   ]
  },
  {
   "cell_type": "code",
   "execution_count": null,
   "id": "479f4d98-c9ff-4735-9c5c-033829965de6",
   "metadata": {},
   "outputs": [],
   "source": [
    "from audiotools import AudioSignal\n",
    "\n",
    "AudioSignal(f'./test_audio_save.wav').widget()"
   ]
  },
  {
   "cell_type": "code",
   "execution_count": null,
   "id": "845cd9fd-0a30-413f-9d88-764c6150053c",
   "metadata": {},
   "outputs": [],
   "source": [
    "# from IPython.display import Audio\n",
    "from audiotools import AudioSignal\n",
    "\n",
    "for i in range(1, 7):\n",
    "    # display(Audio(f'./test_{i}.wav'))\n",
    "    AudioSignal(f'./test_{i}.wav').widget()"
   ]
  },
  {
   "cell_type": "code",
   "execution_count": null,
   "id": "3627b53f-d3cd-4e3b-8c70-40c6a334f9c5",
   "metadata": {},
   "outputs": [],
   "source": [
    "from audiotools import AudioSignal\n",
    "from IPython.display import Audio\n",
    "import torch\n",
    "\n",
    "signals = [AudioSignal(f'./test_{i}.wav').audio_data.squeeze(0)[:, :-4800] for i in range(1, 5)]\n",
    "print(signals[0].shape)\n",
    "combined = torch.cat(signals, dim=-1)\n",
    "\n",
    "Audio(combined.cpu().numpy(), rate=sr)"
   ]
  },
  {
   "cell_type": "code",
   "execution_count": null,
   "id": "a825fa50-7e4f-4212-94c3-639d12d578d7",
   "metadata": {},
   "outputs": [],
   "source": [
    "import numpy as np\n",
    "\n",
    "AudioSignal(f'./test_3.wav').widget()\n",
    "\n",
    "fade_out_ms = 80\n",
    "fade_samples = int(24000 * fade_out_ms / 1000)\n",
    "fade_curve = np.linspace(1, 0, fade_samples)\n",
    "\n",
    "trimmed = AudioSignal(f'./test_3.wav').audio_data.squeeze(0)\n",
    "\n",
    "for i in range(1, 3):\n",
    "    t = trimmed[:, :-4800*i].cpu().numpy()\n",
    "    t[:, -fade_samples:] *= fade_curve\n",
    "    display(Audio(t, rate=24000))"
   ]
  },
  {
   "cell_type": "code",
   "execution_count": null,
   "id": "b076c41d-f778-491c-b146-67fd4650990d",
   "metadata": {},
   "outputs": [],
   "source": []
  },
  {
   "cell_type": "code",
   "execution_count": null,
   "id": "d1d6e956-0a2c-4286-bfe9-91849742aed0",
   "metadata": {},
   "outputs": [],
   "source": [
    "# Use a pipeline as a high-level helper\n",
    "from transformers import pipeline\n",
    "\n",
    "pipe = pipeline(\"text-generation\", model=\"openai/gpt-oss-20b\")\n",
    "messages = [\n",
    "    {\"role\": \"user\", \"content\": \"Who are you?\"},\n",
    "]\n",
    "pipe(messages)"
   ]
  },
  {
   "cell_type": "code",
   "execution_count": null,
   "id": "e7d10034-896e-47df-a329-e2e346c91724",
   "metadata": {},
   "outputs": [],
   "source": []
  }
 ],
 "metadata": {
  "kernelspec": {
   "display_name": "Python 3 (ipykernel)",
   "language": "python",
   "name": "python3"
  },
  "language_info": {
   "codemirror_mode": {
    "name": "ipython",
    "version": 3
   },
   "file_extension": ".py",
   "mimetype": "text/x-python",
   "name": "python",
   "nbconvert_exporter": "python",
   "pygments_lexer": "ipython3",
   "version": "3.12.3"
  }
 },
 "nbformat": 4,
 "nbformat_minor": 5
}
